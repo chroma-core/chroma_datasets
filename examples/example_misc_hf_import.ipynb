{
 "cells": [
  {
   "attachments": {},
   "cell_type": "markdown",
   "metadata": {},
   "source": [
    "## Import Misc data\n",
    "\n",
    "This notebook demonstrates how to pull misc data (in this case `SciQ`) from HuggingFace and massage it into the format that Chroma wants. \n",
    "\n",
    "You can then export it using `export_collection_to_hf_dataset` to upload it to HuggingFace. Alternatively, you can embed this logic into your Dataset class. See `sciq.py` for an example."
   ]
  },
  {
   "cell_type": "code",
   "execution_count": null,
   "metadata": {},
   "outputs": [],
   "source": [
    "! pip install chromadb --quiet\n",
    "! pip install chroma_datasets --quiet"
   ]
  },
  {
   "cell_type": "code",
   "execution_count": null,
   "metadata": {},
   "outputs": [],
   "source": [
    "import chromadb\n",
    "import uuid\n",
    "from chroma_datasets.utils import import_into_chroma, load_huggingface_dataset, to_chroma_schema\n",
    "\n",
    "dataset = load_huggingface_dataset(dataset_name=\"sciq\", split_name=\"test\")\n",
    "\n",
    "# sciq has has rows with questions and supporting evidence\n",
    "# we want to embed both in chroma\n",
    "dataset_rows = []\n",
    "for row in dataset:\n",
    "\n",
    "    # add questions\n",
    "    dataset_rows.append({\n",
    "        \"id\": str(uuid.uuid4()),\n",
    "        \"document\": row[\"question\"],\n",
    "        \"metadata\": {  \n",
    "            \"type\": \"question\",\n",
    "        }\n",
    "    })\n",
    "\n",
    "    # add supporting evidence\n",
    "    dataset_rows.append({\n",
    "        \"id\": str(uuid.uuid4()),\n",
    "        \"document\": row[\"support\"],\n",
    "        \"metadata\": {\n",
    "            \"type\": \"supporting_evidence\"\n",
    "        }\n",
    "    })\n",
    "\n",
    "chroma_client = chromadb.Client()\n",
    "sciq_coll = import_into_chroma(chroma_client=chroma_client, dataset=to_chroma_schema(dataset_rows))\n",
    "print(sciq_coll.count())\n"
   ]
  },
  {
   "cell_type": "code",
   "execution_count": null,
   "metadata": {},
   "outputs": [],
   "source": [
    "res = sciq_coll.query(\n",
    "    query_texts=\"What phenomenon makes global winds blow northeast to southwest or the reverse in the northern hemisphere and northwest to southeast or the reverse in the southern hemisphere?\",\n",
    "    where={\"type\": \"supporting_evidence\"},\n",
    "    n_results=3\n",
    "    )\n",
    "print(res)"
   ]
  }
 ],
 "metadata": {
  "kernelspec": {
   "display_name": "Python 3",
   "language": "python",
   "name": "python3"
  },
  "language_info": {
   "codemirror_mode": {
    "name": "ipython",
    "version": 3
   },
   "file_extension": ".py",
   "mimetype": "text/x-python",
   "name": "python",
   "nbconvert_exporter": "python",
   "pygments_lexer": "ipython3",
   "version": "3.9.6"
  },
  "orig_nbformat": 4
 },
 "nbformat": 4,
 "nbformat_minor": 2
}
