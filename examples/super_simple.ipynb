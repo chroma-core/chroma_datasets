{
 "cells": [
  {
   "cell_type": "code",
   "execution_count": null,
   "metadata": {},
   "outputs": [],
   "source": [
    "! pip install chromadb chroma_datasets --quiet"
   ]
  },
  {
   "cell_type": "code",
   "execution_count": null,
   "metadata": {},
   "outputs": [],
   "source": [
    "import chromadb\n",
    "from chroma_datasets import StateOfTheUnion\n",
    "from chroma_datasets.utils import import_into_chroma\n",
    "\n",
    "chroma_client = chromadb.Client()\n",
    "collection = import_into_chroma(chroma_client=chroma_client, dataset=StateOfTheUnion)\n",
    "result = collection.query(query_texts=[\"The United States of America\"])\n",
    "print(result)"
   ]
  }
 ],
 "metadata": {
  "language_info": {
   "name": "python"
  },
  "orig_nbformat": 4
 },
 "nbformat": 4,
 "nbformat_minor": 2
}
