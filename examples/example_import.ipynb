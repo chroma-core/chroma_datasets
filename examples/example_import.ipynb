{
 "cells": [
  {
   "attachments": {},
   "cell_type": "markdown",
   "metadata": {},
   "source": [
    "## Importing Data\n",
    "\n",
    "This notebook has 2 examples\n",
    "\n",
    "***\n",
    "\n",
    "The first examples is how to load in data that uses Chroma's default embedding function (SentenceTransformers)."
   ]
  },
  {
   "cell_type": "code",
   "execution_count": 4,
   "metadata": {},
   "outputs": [],
   "source": [
    "! pip install chromadb --quiet\n",
    "# ! pip install chroma_datasets --quiet"
   ]
  },
  {
   "cell_type": "code",
   "execution_count": 5,
   "metadata": {},
   "outputs": [
    {
     "name": "stdout",
     "output_type": "stream",
     "text": [
      "Loaded 42 documents into the collection named: StateOfTheUnion\n",
      "{'ids': [['41']], 'embeddings': None, 'documents': [['We are the only nation on Earth that has always turned every crisis we have faced into an opportunity. \\n \\n The only nation that can be defined by a single word: possibilities. \\n \\n So on this night, in our 245th year as a nation, I have come to report on the State of the Union. \\n \\n And my report is this: the State of the Union is strong—because you, the American people, are strong. \\n \\n We are stronger today than we were a year ago. \\n \\n And we will be stronger a year from now than we are today. \\n \\n Now is our moment to meet and overcome the challenges of our time. \\n \\n And we will, as one people. \\n \\n One America. \\n \\n The United States of America. \\n \\n May God bless you all. May God protect our troops.']], 'metadatas': [[{'source': 'sotu'}]], 'distances': [[0.3151229918003082]]}\n"
     ]
    }
   ],
   "source": [
    "import chromadb\n",
    "from chromadb.utils import embedding_functions\n",
    "from chroma_datasets import StateOfTheUnion\n",
    "from chroma_datasets.utils import import_into_chroma\n",
    "\n",
    "chroma_client = chromadb.Client()\n",
    "openai_ef = embedding_functions.OpenAIEmbeddingFunction(\n",
    "    api_key=\"API_KEY\",\n",
    "    model_name=\"text-embedding-ada-002\"\n",
    ")\n",
    "collection = import_into_chroma(chroma_client=chroma_client, dataset=StateOfTheUnion, embedding_function=openai_ef)\n",
    "result = collection.query(query_texts=[\"The United States of America\"], n_results=1)\n",
    "print(result)"
   ]
  },
  {
   "attachments": {},
   "cell_type": "markdown",
   "metadata": {},
   "source": [
    "The second example is how to load in data that is embedded using OpenAI embeddings. This requires passing a `OpenAIEmbeddingFunction` because in order to use the collection and query it, you need to configure it with your API keys."
   ]
  },
  {
   "cell_type": "code",
   "execution_count": 7,
   "metadata": {},
   "outputs": [
    {
     "name": "stderr",
     "output_type": "stream",
     "text": [
      "Found cached dataset parquet (/Users/jeff/.cache/huggingface/datasets/chromadb___parquet/chromadb--paul_graham_essay-93509c9cb92f393a/0.0.0/14a00e99c0d15a23649d0db8944380ac81082d4b021f398733dd84f3a6c569a7)\n"
     ]
    },
    {
     "name": "stdout",
     "output_type": "stream",
     "text": [
      "Loaded 104 documents into the collection named: PaulGrahamEssay\n",
      "104\n"
     ]
    }
   ],
   "source": [
    "import chromadb\n",
    "from chromadb.utils import embedding_functions\n",
    "from chroma_datasets.utils import import_into_chroma\n",
    "from chroma_datasets import PaulGrahamEssay\n",
    "\n",
    "chroma_client = chromadb.Client()\n",
    "openai_ef = embedding_functions.OpenAIEmbeddingFunction(\n",
    "    api_key=\"API_KEY\",\n",
    "    model_name=\"text-embedding-ada-002\"\n",
    ")\n",
    "sotu_coll = import_into_chroma(chroma_client=chroma_client, dataset=PaulGrahamEssay, embedding_function=openai_ef)\n",
    "print(sotu_coll.count())\n"
   ]
  }
 ],
 "metadata": {
  "kernelspec": {
   "display_name": "Python 3",
   "language": "python",
   "name": "python3"
  },
  "language_info": {
   "codemirror_mode": {
    "name": "ipython",
    "version": 3
   },
   "file_extension": ".py",
   "mimetype": "text/x-python",
   "name": "python",
   "nbconvert_exporter": "python",
   "pygments_lexer": "ipython3",
   "version": "3.10.10"
  },
  "orig_nbformat": 4
 },
 "nbformat": 4,
 "nbformat_minor": 2
}
