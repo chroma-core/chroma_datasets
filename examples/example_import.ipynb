{
 "cells": [
  {
   "attachments": {},
   "cell_type": "markdown",
   "metadata": {},
   "source": [
    "## Importing Data\n",
    "\n",
    "This notebook has 2 examples\n",
    "\n",
    "***\n",
    "\n",
    "The first examples is how to load in data that uses Chroma's default embedding function (SentenceTransformers)."
   ]
  },
  {
   "cell_type": "code",
   "execution_count": null,
   "metadata": {},
   "outputs": [],
   "source": [
    "! pip install chromadb --quiet\n",
    "! pip install chroma_datasets --quiet"
   ]
  },
  {
   "cell_type": "code",
   "execution_count": null,
   "metadata": {},
   "outputs": [],
   "source": [
    "import chromadb\n",
    "from chroma_datasets import StateOfTheUnion\n",
    "from chroma_datasets.utils import import_into_chroma\n",
    "\n",
    "chroma_client = chromadb.Client()\n",
    "collection = import_into_chroma(chroma_client=chroma_client, dataset=StateOfTheUnion())\n",
    "result = collection.query(query_texts=[\"The United States of America\"])\n",
    "print(result)"
   ]
  },
  {
   "attachments": {},
   "cell_type": "markdown",
   "metadata": {},
   "source": [
    "The second example is how to load in data that is embedded using OpenAI embeddings. This requires passing a `OpenAIEmbeddingFunction` because in order to use the collection and query it, you need to configure it with your API keys."
   ]
  },
  {
   "cell_type": "code",
   "execution_count": null,
   "metadata": {},
   "outputs": [],
   "source": [
    "import chromadb\n",
    "from chromadb.utils import embedding_functions\n",
    "from chroma_datasets import Glue\n",
    "from chroma_datasets.utils import import_into_chroma\n",
    "from chroma_datasets import PaulGrahamEssay\n",
    "\n",
    "chroma_client = chromadb.Client()\n",
    "openai_ef = embedding_functions.OpenAIEmbeddingFunction(\n",
    "    api_key=\"API_KEY\",\n",
    "    model_name=\"text-embedding-ada-002\"\n",
    ")\n",
    "sotu_coll = import_into_chroma(chroma_client=chroma_client, dataset=PaulGrahamEssay(), embedding_function=openai_ef)\n",
    "print(sotu_coll.count())\n"
   ]
  }
 ],
 "metadata": {
  "kernelspec": {
   "display_name": "Python 3",
   "language": "python",
   "name": "python3"
  },
  "language_info": {
   "codemirror_mode": {
    "name": "ipython",
    "version": 3
   },
   "file_extension": ".py",
   "mimetype": "text/x-python",
   "name": "python",
   "nbconvert_exporter": "python",
   "pygments_lexer": "ipython3",
   "version": "3.9.6"
  },
  "orig_nbformat": 4
 },
 "nbformat": 4,
 "nbformat_minor": 2
}
