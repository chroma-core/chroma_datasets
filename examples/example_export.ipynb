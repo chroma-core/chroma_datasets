{
 "cells": [
  {
   "attachments": {},
   "cell_type": "markdown",
   "metadata": {},
   "source": [
    "## This example walks through\n",
    "\n",
    "1. Importing a text document\n",
    "2. Chunking it\n",
    "3. Embedding it using OpenAI embeddings (set your API_KEY below to follow along)\n",
    "4. Loading it into a Chroma collection\n",
    "5. Exporting it to a HuggingFace Dataset\n",
    "6. Uploading it to HuggingFace\n",
    "\n",
    "See `README.md` to see the rest of the instructions for opening a PR to add a dataset."
   ]
  },
  {
   "cell_type": "code",
   "execution_count": null,
   "metadata": {},
   "outputs": [],
   "source": [
    "!pip install datasets --quiet\n",
    "!pip install huggingface_hub --quiet\n",
    "!pip install chromadb --quiet\n",
    "\n",
    "import chromadb\n",
    "from chromadb.utils import embedding_functions"
   ]
  },
  {
   "cell_type": "code",
   "execution_count": null,
   "metadata": {},
   "outputs": [],
   "source": [
    "## First import the dataset\n",
    "with open('./examples/data/paul_graham_essay.txt', \"r\") as file:\n",
    "            content = file.readlines()\n",
    "\n",
    "# merge into one string\n",
    "content = \" \".join(content)\n",
    "\n",
    "# split into chunks\n",
    "from langchain.text_splitter import CharacterTextSplitter\n",
    "text_splitter = CharacterTextSplitter(chunk_size=1000, chunk_overlap=0, separator=\"\\n\")\n",
    "content = text_splitter.split_text(content)\n",
    "openai_ef = embedding_functions.OpenAIEmbeddingFunction(\n",
    "                api_key=\"API_KEY\",\n",
    "                model_name=\"text-embedding-ada-002\"\n",
    "            )\n",
    "\n",
    "client = chromadb.Client()\n",
    "collection = client.create_collection(\"paul_graham_essays\", embedding_function=openai_ef)\n",
    "\n",
    "collection.add(\n",
    "    ids=[str(i) for i in range(len(content))],\n",
    "    documents=content,\n",
    "    metadatas=[{\"author\": \"Paul Graham\"} for i in range(len(content))]\n",
    ")"
   ]
  },
  {
   "cell_type": "code",
   "execution_count": null,
   "metadata": {},
   "outputs": [],
   "source": [
    "from chroma_datasets.utils import export_collection_to_hf_dataset\n",
    "\n",
    "dataset = export_collection_to_hf_dataset(client, \"paul_graham_essays\", \"MIT\")\n",
    "dataset.push_to_hub(\"chromadb/paul_graham_essay\", split=\"data\")\n",
    "print(dataset)"
   ]
  }
 ],
 "metadata": {
  "kernelspec": {
   "display_name": "Python 3",
   "language": "python",
   "name": "python3"
  },
  "language_info": {
   "codemirror_mode": {
    "name": "ipython",
    "version": 3
   },
   "file_extension": ".py",
   "mimetype": "text/x-python",
   "name": "python",
   "nbconvert_exporter": "python",
   "pygments_lexer": "ipython3",
   "version": "3.9.6"
  },
  "orig_nbformat": 4
 },
 "nbformat": 4,
 "nbformat_minor": 2
}
